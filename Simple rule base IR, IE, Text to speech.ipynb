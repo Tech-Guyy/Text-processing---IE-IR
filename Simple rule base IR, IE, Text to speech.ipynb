{
 "cells": [
  {
   "cell_type": "code",
   "execution_count": 17,
   "id": "8db00535",
   "metadata": {},
   "outputs": [
    {
     "name": "stdout",
     "output_type": "stream",
     "text": [
      "Mentions of The Lion King: [12429, 2262, 3098, 4464, 8264, 2758, 3163, 9837, 3768, 2661, 9751, 2261, 2670, 15087, 23535, 10023, 13316, 22231, 9609, 18890]\n",
      "Reviews of The Lion King: [25950, 2727, 2236, 5513, 9778, 12950, 7218, 5691, 24533, 12936, 18866, 23805, 7836, 9703, 3532, 4981, 3558, 3568, 3792, 5790, 8103, 8287, 3535, 5369]\n",
      "Mentions of Star Wars: [4550, 7309, 12547, 2582, 12057, 3785, 3023, 2035, 4125, 11641, 4634, 7065, 7015, 7096, 7624, 11025, 5616, 6949, 7676, 3040, 12890, 15031, 21544, 24551, 24563, 12602, 9638, 10230, 11468, 13536, 13636, 21610, 18779, 22991, 25302, 25766, 10897, 20096]\n",
      "Reviews of Star Wars: [26895, 22584, 24561, 18485, 20185, 2985, 5574, 3742, 6782, 16619, 24553, 2483, 25020, 5542, 18433, 18767, 7114, 7533, 6829, 6979, 7197, 27812, 28755, 28772, 6417, 6383, 18265, 3852, 6348, 7163, 8245, 28787, 5100, 6971, 7536, 29716, 5049, 5055, 5592, 7212]\n",
      "Mentions of Starship Troopers: [10859, 12224, 11808, 9654, 11987, 11595, 12012, 14580, 11468, 13629, 9915, 13316, 25567, 9673]\n",
      "Reviews of Starship Troopers: [17219, 26255, 9671, 22372]\n"
     ]
    }
   ],
   "source": [
    "import pandas as pd\n",
    "\n",
    "# Load the dataset from the CSV file\n",
    "data = pd.read_csv(\"C:/Users/samue/Downloads/data_assessment_2/data_for_info_retriev_extract/Dataset_IMDB.csv\")\n",
    "\n",
    "# Define the three specific movies\n",
    "movies = ['The Lion King', 'Star Wars', 'Starship Troopers']\n",
    "\n",
    "# Initialize dictionaries to store the results\n",
    "ir_results = {}\n",
    "ie_results = {}\n",
    "\n",
    "# Implement the information retrieval system\n",
    "for movie in movies:\n",
    "    ir_results[movie] = {'Mentioned': [], 'Reviewed': []}\n",
    "    for index, row in data.iterrows():\n",
    "        if movie.lower() in row['Text'].lower():\n",
    "            if 'review' in row['Text'].lower():\n",
    "                ir_results[movie]['Reviewed'].append(row['Id'])\n",
    "            else:\n",
    "                ir_results[movie]['Mentioned'].append(row['Id'])\n",
    "\n",
    "# Display the results of the information retrieval system\n",
    "for movie in movies:\n",
    "    print(f\"Mentions of {movie}: {ir_results[movie]['Mentioned']}\")\n",
    "    print(f\"Reviews of {movie}: {ir_results[movie]['Reviewed']}\")\n"
   ]
  },
  {
   "cell_type": "code",
   "execution_count": 18,
   "id": "6db0399a",
   "metadata": {},
   "outputs": [
    {
     "name": "stdout",
     "output_type": "stream",
     "text": [
      "The Lion King:\n",
      "Director: Roger Allers and Rob Minkoff\n",
      "Average Rating: 0.65\n",
      "\n",
      "Star Wars:\n",
      "Director: George Lucas\n",
      "Average Rating: 0.6666666666666666\n",
      "\n",
      "Starship Troopers:\n",
      "Director: Paul Verhoeven\n",
      "Average Rating: 0.7\n",
      "\n"
     ]
    }
   ],
   "source": [
    "# Define the directors of the movies\n",
    "directors = {\n",
    "    \"The Lion King\": \"Roger Allers and Rob Minkoff\",\n",
    "    \"Star Wars\": \"George Lucas\",\n",
    "    \"Starship Troopers\": \"Paul Verhoeven\"\n",
    "}\n",
    "\n",
    "# Calculate the average rating for each movie\n",
    "average_ratings = {}\n",
    "\n",
    "for movie in movies:\n",
    "    movie_reviews = df[df[\"Text\"].str.contains(movie)]\n",
    "    average_rating = movie_reviews[\"Rating\"].mean()\n",
    "    average_ratings[movie] = average_rating\n",
    "\n",
    "# Print the director and average rating for each movie\n",
    "for movie in movies:\n",
    "    director = directors[movie]\n",
    "    rating = average_ratings[movie]\n",
    "    print(f\"{movie}:\")\n",
    "    print(f\"Director: {director}\")\n",
    "    print(f\"Average Rating: {rating}\")\n",
    "    print()\n",
    "\n"
   ]
  },
  {
   "cell_type": "code",
   "execution_count": 16,
   "id": "944ff122",
   "metadata": {},
   "outputs": [],
   "source": [
    "\n",
    "import pyttsx3\n",
    "\n",
    "# Initialize the text-to-speech engine\n",
    "engine = pyttsx3.init()\n",
    "\n",
    "# Define a function to generate the voice message\n",
    "def generate_voice_message(movie_title, director, num_reviews, num_mentions, avg_score):\n",
    "    # Define the message template\n",
    "    message = f\"You have required information about {movie_title} movie, the director of this movie is {director}, there is a total of {num_reviews} reviews of this movie in the database, there are {num_mentions} mentions of this movie in other movie reviews. The average review score for this movie is {avg_score}, which makes it a {'BAD' if avg_score >= 6 else 'GOOD'} recommendation to watch.\"\n",
    "    # Set the properties of the voice message\n",
    "    engine.setProperty('rate', 150) # Set the speaking rate\n",
    "    engine.setProperty('volume', 1) # Set the volume\n",
    "    # Generate the voice message\n",
    "    engine.say(message)\n",
    "    engine.runAndWait()\n",
    "\n",
    "# Call the function to generate the voice message\n",
    "generate_voice_message(\"The Lion King\", \"Roger Allers and Rob Minkoff\", 24, 20, 0.7)\n"
   ]
  },
  {
   "cell_type": "code",
   "execution_count": null,
   "id": "2bbc44f1",
   "metadata": {},
   "outputs": [],
   "source": []
  }
 ],
 "metadata": {
  "kernelspec": {
   "display_name": "Python 3 (ipykernel)",
   "language": "python",
   "name": "python3"
  },
  "language_info": {
   "codemirror_mode": {
    "name": "ipython",
    "version": 3
   },
   "file_extension": ".py",
   "mimetype": "text/x-python",
   "name": "python",
   "nbconvert_exporter": "python",
   "pygments_lexer": "ipython3",
   "version": "3.9.12"
  }
 },
 "nbformat": 4,
 "nbformat_minor": 5
}
